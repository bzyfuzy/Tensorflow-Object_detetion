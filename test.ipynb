{
 "cells": [
  {
   "cell_type": "code",
   "execution_count": null,
   "metadata": {},
   "outputs": [],
   "source": [
    "import time\n",
    "import numpy as np\n",
    "from PIL import Image\n",
    "from matplotlib import pyplot as plt\n",
    "%matplotlib inline\n",
    "from object_detection.utils import label_map_util\n",
    "from object_detection.utils import visualization_utils as viz_utils\n",
    "import tensorflow as tf\n",
    "import numpy as np\n",
    "%matplotlib inline\n",
    "\n",
    "# Provide testing image path\n",
    "testing_image_path = r\"http://192.168.1.10/webcam/?action=snapshot\"\n",
    "model_dir = r\"/home/bzy/tensorflow/workspace/soyol/exported-models/my_model/checkpoint\"\n",
    "labels_path = r\"/home/bzy/tensorflow/workspace/soyol/annotations/label_map.pbtxt\"\n",
    "saved_model_path = r\"/home/bzy/tensorflow/workspace/soyol/exported-models/my_model/saved_model\"\n",
    "\n",
    "# Load exported model\n",
    "print('Loading model...', end='')\n",
    "start_time = time.time()\n",
    "detect_fn = tf.saved_model.load(saved_model_path)\n",
    "end_time = time.time()\n",
    "elapsed_time = end_time - start_time\n",
    "print('Done! Took {} seconds'.format(elapsed_time))\n",
    "\n",
    "# Begin Detection\n",
    "category_index = label_map_util.create_category_index_from_labelmap(labels_path, use_display_name=True)\n",
    "\n",
    "image_np = np.array(Image.open(testing_image_path))\n",
    "input_tensor = tf.convert_to_tensor(image_np)\n",
    "input_tensor = input_tensor[tf.newaxis, ...]\n",
    "\n",
    "\n",
    "detections = detect_fn(input_tensor)\n",
    "num_detections = int(detections.pop('num_detections'))\n",
    "\n",
    "detections = {key: value[0, :num_detections].numpy() for key, value in detections.items()}\n",
    "\n",
    "detections['num_detections'] = num_detections\n",
    "detections['detection_classes'] = detections['detection_classes'].astype(np.int64)\n",
    "image_np_with_detections = image_np.copy()\n",
    "viz_utils.visualize_boxes_and_labels_on_image_array(\n",
    "          image_np_with_detections,\n",
    "          detections['detection_boxes'],\n",
    "          detections['detection_classes'],\n",
    "          detections['detection_scores'],\n",
    "          category_index,\n",
    "          use_normalized_coordinates=True,\n",
    "          max_boxes_to_draw=1,\n",
    "          min_score_thresh=.2,\n",
    "          agnostic_mode=False)\n",
    "plt.figure()\n",
    "# Display the image with detected box\n",
    "plt.imshow(image_np_with_detections)"
   ]
  }
 ],
 "metadata": {
  "kernelspec": {
   "display_name": "tf_39",
   "language": "python",
   "name": "python3"
  },
  "language_info": {
   "name": "python",
   "version": "3.9.18"
  }
 },
 "nbformat": 4,
 "nbformat_minor": 2
}
